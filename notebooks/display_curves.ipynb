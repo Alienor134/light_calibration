{
 "cells": [
  {
   "cell_type": "code",
   "execution_count": 4,
   "id": "3be9cd0f-830e-4109-974c-2847301542d3",
   "metadata": {},
   "outputs": [],
   "source": [
    "from jupyter_dash import JupyterDash\n",
    "import dash\n",
    "from dash import dcc\n",
    "from dash import html\n",
    "from dash.dependencies import Output, Input\n",
    "import plotly.express as px\n",
    "import chart_studio.plotly as py\n",
    "import plotly.graph_objects as go\n",
    "from plotly.subplots import make_subplots\n",
    "\n",
    "import numpy as np\n",
    "from useful_func import *\n",
    "JupyterDash.infer_jupyter_proxy_config()\n",
    "\n"
   ]
  },
  {
   "cell_type": "code",
   "execution_count": 5,
   "id": "2fd7d927-6766-4c9e-9704-4992100f8642",
   "metadata": {},
   "outputs": [
    {
     "name": "stdout",
     "output_type": "stream",
     "text": [
      "(128, 128)\n",
      "(50, 128, 128)\n",
      "54.14278938535092\n"
     ]
    }
   ],
   "source": [
    "external_stylesheets = ['https://codepen.io/chriddyp/pen/bWLwgP.css']\n",
    "\n",
    "app = JupyterDash(__name__, external_stylesheets=external_stylesheets)\n",
    "app.title = \"FluoDL\"\n",
    "\n",
    "# Create server variable with Flask server object for use with gunicorn\n",
    "server = app.server\n",
    "\n",
    "I_480_map = np.load(\"../images/I_480_map.npy\")\n",
    "print(I_480_map.shape)\n",
    "video_2D = np.load(\"../images/video_2D.npy\")\n",
    "print(video_2D.shape)\n",
    "framerate = np.load(\"../images/framerate.npy\")\n",
    "\n",
    "\n",
    "maxi = int(I_480_map.max())\n",
    "mini = int(I_480_map.min())\n",
    "step  = (maxi-mini)//10\n",
    "\n",
    "def create_distribution(I_map_0, maxi, mini):\n",
    "    I_map = np.copy(I_map_0)\n",
    "    maxi = np.quantile(I_map_0, maxi)\n",
    "    mini = np.quantile(I_map_0, mini)\n",
    "    I_map[I_map>maxi] = maxi\n",
    "    I_map[I_map<mini] = mini\n",
    "    fig = px.imshow(I_map)\n",
    "    fig.update_traces(hovertemplate=\"x: %{x} <br> y: %{y} <br> z: %{z}\")\n",
    "    fig.update_layout(coloraxis=dict(colorbar=dict(orientation='h')))\n",
    "    fig.update_xaxes(visible=False)\n",
    "    fig.update_yaxes(visible=False)\n",
    "    print(np.mean(I_map))\n",
    "    return fig\n",
    "\n",
    "fig_init = create_distribution(I_480_map, 1, 0)\n",
    "\n",
    "\n",
    "\n",
    "# Create server variable with Flask server object for use with gunicorn\n",
    "\n",
    "app.layout = html.Div([\n",
    "\n",
    "        html.Div([            \n",
    "            html.Label(\"Min value\"),\n",
    "\n",
    "\n",
    "            dcc.Slider(\n",
    "            id=\"mini\",\n",
    "            min=0,\n",
    "            max=0.5,\n",
    "            value=0.01,\n",
    "        ),\n",
    "            \n",
    "        html.Label(\"Max value\"),\n",
    "            dcc.Slider(\n",
    "            id = \"maxi\",   \n",
    "            min=0.5,\n",
    "            max=1,\n",
    "            value= 0.99,\n",
    "        ),\n",
    "        ], style={'width':'30%'}\n",
    "        ),\n",
    "        html.Div([\n",
    "            \n",
    "                dcc.Graph(id=\"distribution\", figure = fig_init),\n",
    "                \n",
    "                dcc.Graph(id=\"trace\", hoverData={'points': [{'hovertext': \"0_0_0/3/1\"}]}),\n",
    "\n",
    "        ],\n",
    "        style={'width': '49%', 'display': 'inline-block'}),\n",
    "]\n",
    ")\n",
    "\n",
    "\n",
    "def create_trace(time, trace):\n",
    "    params = simple_tau(trace, time, sample_rate = framerate)\n",
    "    time = time/framerate\n",
    "\n",
    "    y = exp_decay(params, time)\n",
    "\n",
    "    trace1 = go.Scatter(\n",
    "        mode = \"markers\",\n",
    "        x=time,\n",
    "        y=trace,\n",
    "        name=\"raw\",\n",
    "        marker=dict(\n",
    "            color='rgb(34,163,192)'\n",
    "                   )\n",
    "    )\n",
    "    trace2 = go.Scatter(\n",
    "        x=time,\n",
    "        y=y,\n",
    "        name='fit',)\n",
    "\n",
    "    fig_trace = make_subplots()\n",
    "    fig_trace.add_trace(trace1)\n",
    "    fig_trace.add_trace(trace2)    \n",
    "    fig_trace.add_annotation(x=0, y=0.85, xanchor='left', yanchor='bottom',\n",
    "                       xref='paper', yref='paper', showarrow=False, align='left', text = \"\",\n",
    "                       )\n",
    "    fig_trace.update_layout(plot_bgcolor='rgba(255,255,255,1)')\n",
    "    return fig_trace\n",
    "\n",
    "@app.callback(\n",
    "    Output('distribution', 'figure'),\n",
    "    [Input('maxi', 'value'),\n",
    "    Input('mini', 'value')])\n",
    "def update_figure(maxi, mini):\n",
    "    return create_distribution(I_480_map, maxi, mini)\n",
    "\n",
    "\n",
    "@app.callback(\n",
    "    Output('trace', 'figure'),\n",
    "    [Input('distribution', 'hoverData')])\n",
    "def update_trace(hoverData):\n",
    "    x = hoverData['points'][0][\"x\"]\n",
    "    y = hoverData['points'][0][\"y\"]\n",
    "    trace = video_2D[:, y,x]\n",
    "    time = np.linspace(0, len(trace)-1, len(trace))\n",
    "    return create_trace(time, trace)\n",
    "\n",
    "\n"
   ]
  },
  {
   "cell_type": "code",
   "execution_count": 6,
   "id": "bd2ea623-ef0e-4757-9402-6d4af6412d5e",
   "metadata": {},
   "outputs": [
    {
     "name": "stdout",
     "output_type": "stream",
     "text": [
      "48.96738724835386\n"
     ]
    },
    {
     "name": "stderr",
     "output_type": "stream",
     "text": [
      "G:\\DREAM\\from_github\\light_calibration\\notebooks\\useful_func.py:22: RuntimeWarning:\n",
      "\n",
      "overflow encountered in exp\n",
      "\n"
     ]
    }
   ],
   "source": [
    "app.run_server(mode=\"jupyterlab\")"
   ]
  },
  {
   "cell_type": "code",
   "execution_count": 4,
   "id": "1fbee962-9eae-4511-9288-3abc369a6a11",
   "metadata": {},
   "outputs": [
    {
     "data": {
      "text/plain": [
       "<matplotlib.image.AxesImage at 0x19c79be8430>"
      ]
     },
     "execution_count": 4,
     "metadata": {},
     "output_type": "execute_result"
    },
    {
     "data": {
      "image/png": "[encoded data removed]",
      "text/plain": [
       "<Figure size 640x480 with 1 Axes>"
      ]
     },
     "metadata": {},
     "output_type": "display_data"
    }
   ],
   "source": [
    "plt.imshow(I_480_map)"
   ]
  },
  {
   "cell_type": "code",
   "execution_count": null,
   "id": "2e0ae7fa-3cb5-4ca7-862d-fe1a87753954",
   "metadata": {},
   "outputs": [],
   "source": []
  }
 ],
 "metadata": {
  "kernelspec": {
   "display_name": "Python 3 (ipykernel)",
   "language": "python",
   "name": "python3"
  },
  "language_info": {
   "codemirror_mode": {
    "name": "ipython",
    "version": 3
   },
   "file_extension": ".py",
   "mimetype": "text/x-python",
   "name": "python",
   "nbconvert_exporter": "python",
   "pygments_lexer": "ipython3",
   "version": "3.8.13"
  }
 },
 "nbformat": 4,
 "nbformat_minor": 5
}
